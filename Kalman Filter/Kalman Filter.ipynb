{
 "cells": [
  {
   "cell_type": "markdown",
   "id": "643cdf8b",
   "metadata": {
    "executionInfo": {
     "elapsed": 176,
     "status": "ok",
     "timestamp": 1666379706514,
     "user": {
      "displayName": "Euclid Zhang",
      "userId": "16288628371317911367"
     },
     "user_tz": 240
    },
    "id": "muH6VR68SjgO"
   },
   "source": [
    "<h3><center>Kalman Filter Analysis<br>\n",
    "CUNY SPS MSDS<br>\n",
    "Professor Samuel Gralnick<br>\n",
    "Team Sugar Cane: Euclid Zhang, Jie Zou, Zhenni Xie<br>\n",
    "Fall 2022</center></h3>"
   ]
  },
  {
   "cell_type": "markdown",
   "id": "2tDmvNHRiewh",
   "metadata": {
    "id": "2tDmvNHRiewh"
   },
   "source": [
    "In this analysis, we use the Kalman Filter to estimate the values of the assets in our investment portfolio. \n",
    "\n",
    "<br> \n",
    "\n",
    "We make the following assumptions in our analysis:\n",
    "- The asset value follows a Brownian motion. That is, the daily change of the value is normally distributed with expected value 0.\n",
    "- People's estimation of the true asset value is normally distributed with expected value approximately the same as the true asset value.\n",
    "- The true asset value doesn't change through the same day. So the trading prices on the same day are the estimations of the same asset value by different traders.\n",
    "\n",
    "Based on the assumptions, we have the following Predictor Equation and Measurement Equation:  \n",
    "$ x_{t+1} = x_{t}+\\epsilon_{x,t+1} $ where $\\epsilon_{x,t+1}$ is normally distributed with variance Q  \n",
    "$ z_{t} =  x_{t}+\\epsilon_{z,t+1} $ where $\\epsilon_{z,t+1}$ is normally distributed with variance R\n",
    "  \n",
    " <br> \n",
    "  \n",
    "We define the terms in the Kalman Filter as following:\n",
    "- State (**x**): The true asset value. This is not the trading price of the asset. In real time transactions, people are estimating the value of the same asset differently and hence the trading price may differ from the true asset value.\n",
    "- Measurement (**z**): We will use the daily VWAP (volume weighted average price) as the measurement or observation instead of the daily closing price. The daily closing price is just the trading price of the last transaction of the day and so it doesn't reflect the true state of the asset.\n",
    "- Process Noise Uncertainty (**Q**): The random effect on the change of the state (asset value). Assume that the asset value follows a Brownian motion. The change of the asset value is normally distributed with expected value 0 with a variance Q.\n",
    "- Measurement Uncertainty (**R**): The variance of the measurement error. In this case, the error is the amount of mispricing of the true asset value, which is *trading price - true asset value*. We assume this error is normally distributed with expected value 0 and variance R."
   ]
  },
  {
   "cell_type": "markdown",
   "id": "l-5aYkdCteVS",
   "metadata": {
    "id": "l-5aYkdCteVS"
   },
   "source": [
    "Since we use the VWAP as the measurement of the asset value, we can estimate Q using the volume weighted variance of *typical price - VWAP*, where the typical price = (1/3)*(high + low + close) as it is calculated in the VWAP calculation.   \n",
    "For R, we can estimate it using the variance of the percent change of the daily VWAP."
   ]
  },
  {
   "cell_type": "markdown",
   "id": "Mhv_VvK1xdTW",
   "metadata": {
    "id": "Mhv_VvK1xdTW"
   },
   "source": [
    "The *pykalman* package in python can be used to perform the Kalman Filter calculation. However, the Process Noise Uncertainty (Q) and Measurement Uncertainty (R) are fixed and determined before the calculation. We would like the values of Q and R to be dynamic, which change based on the predicted value in each iteration. It is reasonable that a person misprices an asset by 10 when the price is 200. However, it is unreasonable that a person misprices an asset by 10 when the price is 20. Therefore, we construct our own Kalman Filter calculation and update Q and R in each iteration. "
   ]
  },
  {
   "cell_type": "code",
   "execution_count": 133,
   "id": "fde852f4",
   "metadata": {
    "executionInfo": {
     "elapsed": 4,
     "status": "ok",
     "timestamp": 1666379706709,
     "user": {
      "displayName": "Euclid Zhang",
      "userId": "16288628371317911367"
     },
     "user_tz": 240
    },
    "id": "fde852f4"
   },
   "outputs": [],
   "source": [
    "# loading packages\n",
    "\n",
    "import numpy as np\n",
    "from datetime import datetime, timedelta\n",
    "import yfinance as yf\n",
    "import pandas_datareader.data as pdr\n",
    "import pandas as pd\n",
    "import scipy.stats as stats\n",
    "import math\n",
    "from statsmodels.stats.weightstats import DescrStatsW\n",
    "import matplotlib.pyplot as plt\n",
    "import pickle \n",
    "# from pykalman import KalmanFilter"
   ]
  },
  {
   "cell_type": "code",
   "execution_count": 134,
   "id": "e72d7596",
   "metadata": {
    "executionInfo": {
     "elapsed": 4,
     "status": "ok",
     "timestamp": 1666379706709,
     "user": {
      "displayName": "Euclid Zhang",
      "userId": "16288628371317911367"
     },
     "user_tz": 240
    },
    "id": "e72d7596"
   },
   "outputs": [],
   "source": [
    "\n",
    "\n",
    "start = datetime.strptime('2021-10-08', '%Y-%m-%d')\n",
    "end = datetime.strptime('2022-10-08', '%Y-%m-%d')"
   ]
  },
  {
   "cell_type": "code",
   "execution_count": 135,
   "id": "38188b18",
   "metadata": {
    "executionInfo": {
     "elapsed": 4,
     "status": "ok",
     "timestamp": 1666379706709,
     "user": {
      "displayName": "Euclid Zhang",
      "userId": "16288628371317911367"
     },
     "user_tz": 240
    },
    "id": "38188b18"
   },
   "outputs": [],
   "source": [
    "# loading assets information\n",
    "\n",
    "assets = pd.read_csv(\"portfolio assets.csv\")\n",
    "# assets"
   ]
  },
  {
   "cell_type": "code",
   "execution_count": 136,
   "id": "1IWL48NOx9Zb",
   "metadata": {
    "colab": {
     "base_uri": "https://localhost:8080/"
    },
    "executionInfo": {
     "elapsed": 3635,
     "status": "ok",
     "timestamp": 1666379710340,
     "user": {
      "displayName": "Euclid Zhang",
      "userId": "16288628371317911367"
     },
     "user_tz": 240
    },
    "id": "1IWL48NOx9Zb",
    "outputId": "df0112b1-9a5e-4aed-a9bd-a78be1030d9e"
   },
   "outputs": [
    {
     "name": "stdout",
     "output_type": "stream",
     "text": [
      "[*********************100%***********************]  29 of 29 completed\n"
     ]
    }
   ],
   "source": [
    "# retrieve the asset prices for the last 60 days, with interval 5 minutes\n",
    "\n",
    "yf.pdr_override()\n",
    "\n",
    "tickers = list(assets['Ticker'])[1:]\n",
    "\n",
    "new_historical_data = pdr.DataReader(tickers, data_source='yahoo',period=\"60d\",interval='5m')\n",
    "\n",
    "# historical_data = historical_data.reset_index()\n",
    "# historical_data.Date = historical_data.Date.apply(datetime.date)\n",
    "# historical_data.set_index('Date', inplace = True)"
   ]
  },
  {
   "cell_type": "code",
   "execution_count": 137,
   "id": "INhkAAT1ETHL",
   "metadata": {
    "executionInfo": {
     "elapsed": 33,
     "status": "ok",
     "timestamp": 1666379710341,
     "user": {
      "displayName": "Euclid Zhang",
      "userId": "16288628371317911367"
     },
     "user_tz": 240
    },
    "id": "INhkAAT1ETHL"
   },
   "outputs": [],
   "source": [
    "# Save the asset prices. Yahoo only has the 5-m data for 60 days, so it is better to save the data now for later use.\n",
    "\n",
    "file_data = open(\"price-5m-\" + datetime.now().strftime(\"%m-%d-%Y\") + \".pkl\", 'wb') \n",
    "pickle.dump(new_historical_data, file_data)"
   ]
  },
  {
   "cell_type": "code",
   "execution_count": 138,
   "id": "bATAHVJmGAFX",
   "metadata": {
    "executionInfo": {
     "elapsed": 31,
     "status": "ok",
     "timestamp": 1666379710341,
     "user": {
      "displayName": "Euclid Zhang",
      "userId": "16288628371317911367"
     },
     "user_tz": 240
    },
    "id": "bATAHVJmGAFX"
   },
   "outputs": [],
   "source": [
    "# Load the asset prices that are previously saved\n",
    "\n",
    "file_data = open(\"price-5m-10-22-2022.pkl\", 'rb') \n",
    "historical_data = pickle.load(file_data)"
   ]
  },
  {
   "cell_type": "code",
   "execution_count": 139,
   "id": "b1N48Ens0lUZ",
   "metadata": {
    "executionInfo": {
     "elapsed": 213,
     "status": "ok",
     "timestamp": 1666379710525,
     "user": {
      "displayName": "Euclid Zhang",
      "userId": "16288628371317911367"
     },
     "user_tz": 240
    },
    "id": "b1N48Ens0lUZ"
   },
   "outputs": [],
   "source": [
    "# Impute missing prices using linear interpolation\n",
    "\n",
    "pd.set_option('mode.chained_assignment', None)\n",
    "historical_data['Adj Close'].interpolate(inplace=True)\n",
    "historical_data['High'].interpolate(inplace=True)\n",
    "historical_data['Low'].interpolate(inplace=True)\n",
    "historical_data['Close'].interpolate(inplace=True)\n",
    "historical_data['Volume'].fillna(0, inplace = True)"
   ]
  },
  {
   "cell_type": "code",
   "execution_count": 140,
   "id": "QOEY0N-Sx9dg",
   "metadata": {
    "executionInfo": {
     "elapsed": 7,
     "status": "ok",
     "timestamp": 1666379710526,
     "user": {
      "displayName": "Euclid Zhang",
      "userId": "16288628371317911367"
     },
     "user_tz": 240
    },
    "id": "QOEY0N-Sx9dg"
   },
   "outputs": [],
   "source": [
    "# Calculate the VWAP (Volume Weighted Average Price)\n",
    "\n",
    "typical_price = (historical_data['High'] + historical_data['Low'] + historical_data['Close'])/3\n",
    "total_traded = typical_price*historical_data['Volume']\n",
    "total_traded.fillna(0, inplace = True)\n",
    "VWAP = total_traded.groupby(total_traded.index.date).sum() / historical_data['Volume'].groupby(historical_data['Volume'].index.date).sum().replace(0,1)\n",
    "VWAP = VWAP.replace(0, np.nan)"
   ]
  },
  {
   "cell_type": "code",
   "execution_count": 141,
   "id": "krQua5MH3Yic",
   "metadata": {
    "executionInfo": {
     "elapsed": 7,
     "status": "ok",
     "timestamp": 1666379710527,
     "user": {
      "displayName": "Euclid Zhang",
      "userId": "16288628371317911367"
     },
     "user_tz": 240
    },
    "id": "krQua5MH3Yic"
   },
   "outputs": [],
   "source": [
    "# Calculate the measurement error, per price unit.\n",
    "# Measurement error per price unit = (typical price - VWAP) / VWAP\n",
    "\n",
    "est_spread = typical_price - typical_price.merge(VWAP, left_on = typical_price.index.date, \n",
    "                    right_on = VWAP.index, how= \"inner\").iloc[:,\n",
    "                    (len(typical_price. columns)+1):(2*len(typical_price.columns)+1)].values\n",
    "est_spread = est_spread / typical_price.merge(VWAP, left_on = typical_price.index.date, \n",
    "                    right_on = VWAP.index, how= \"inner\").iloc[:,\n",
    "                    (len(typical_price. columns)+1):(2*len(typical_price.columns)+1)].values"
   ]
  },
  {
   "cell_type": "code",
   "execution_count": 142,
   "id": "AShjj7GHEPEr",
   "metadata": {
    "executionInfo": {
     "elapsed": 6,
     "status": "ok",
     "timestamp": 1666379710527,
     "user": {
      "displayName": "Euclid Zhang",
      "userId": "16288628371317911367"
     },
     "user_tz": 240
    },
    "id": "AShjj7GHEPEr"
   },
   "outputs": [],
   "source": [
    "# Calculate the weighted variance of the per-price-unit measurement errors\n",
    "\n",
    "var_table = pd.DataFrame(index = historical_data['Adj Close'].columns, columns=['R','Q'])\n",
    "for asset in var_table.index:\n",
    "    var_table.loc[asset,'R'] = DescrStatsW(est_spread[asset].fillna(0), weights=historical_data['Volume'][asset].replace(0,1).fillna(1), ddof=1).var"
   ]
  },
  {
   "cell_type": "markdown",
   "id": "o6LQn2bFGm_U",
   "metadata": {
    "id": "o6LQn2bFGm_U"
   },
   "source": [
    "The followings are the estimated Q and R per price unit. We will calcualte the actual Q and R in amount based on the actual price in each iteration, according to the fomula $Var(a \\times X)=a^2 \\times Var(X)$.  \n",
    "So $ Q=price^2 \\times Q_{per\\_unit\\_price} $ and $ R=price^2 \\times R_{per\\_unit\\_price} $"
   ]
  },
  {
   "cell_type": "code",
   "execution_count": 143,
   "id": "w1oOWjWaeKOv",
   "metadata": {
    "colab": {
     "base_uri": "https://localhost:8080/",
     "height": 206
    },
    "executionInfo": {
     "elapsed": 198,
     "status": "ok",
     "timestamp": 1666379710719,
     "user": {
      "displayName": "Euclid Zhang",
      "userId": "16288628371317911367"
     },
     "user_tz": 240
    },
    "id": "w1oOWjWaeKOv",
    "outputId": "33caea5a-35fd-47e3-d213-26a5f3abb92d"
   },
   "outputs": [
    {
     "data": {
      "text/html": [
       "<div>\n",
       "<style scoped>\n",
       "    .dataframe tbody tr th:only-of-type {\n",
       "        vertical-align: middle;\n",
       "    }\n",
       "\n",
       "    .dataframe tbody tr th {\n",
       "        vertical-align: top;\n",
       "    }\n",
       "\n",
       "    .dataframe thead th {\n",
       "        text-align: right;\n",
       "    }\n",
       "</style>\n",
       "<table border=\"1\" class=\"dataframe\">\n",
       "  <thead>\n",
       "    <tr style=\"text-align: right;\">\n",
       "      <th></th>\n",
       "      <th>R</th>\n",
       "      <th>Q</th>\n",
       "    </tr>\n",
       "  </thead>\n",
       "  <tbody>\n",
       "    <tr>\n",
       "      <th>ARLP</th>\n",
       "      <td>0.000156</td>\n",
       "      <td>0.000688</td>\n",
       "    </tr>\n",
       "    <tr>\n",
       "      <th>ASC</th>\n",
       "      <td>0.000149</td>\n",
       "      <td>0.000941</td>\n",
       "    </tr>\n",
       "    <tr>\n",
       "      <th>AZPN</th>\n",
       "      <td>0.000071</td>\n",
       "      <td>0.000314</td>\n",
       "    </tr>\n",
       "    <tr>\n",
       "      <th>BELFA</th>\n",
       "      <td>0.000189</td>\n",
       "      <td>0.000665</td>\n",
       "    </tr>\n",
       "    <tr>\n",
       "      <th>BSM</th>\n",
       "      <td>0.000071</td>\n",
       "      <td>0.000393</td>\n",
       "    </tr>\n",
       "  </tbody>\n",
       "</table>\n",
       "</div>"
      ],
      "text/plain": [
       "              R         Q\n",
       "ARLP   0.000156  0.000688\n",
       "ASC    0.000149  0.000941\n",
       "AZPN   0.000071  0.000314\n",
       "BELFA  0.000189  0.000665\n",
       "BSM    0.000071  0.000393"
      ]
     },
     "execution_count": 143,
     "metadata": {},
     "output_type": "execute_result"
    }
   ],
   "source": [
    "# Calculate the variance of the daily percent change of the VWAP\n",
    "\n",
    "close_prices = VWAP.interpolate()\n",
    "returns = close_prices.pct_change().dropna()\n",
    "var_table['Q'] = returns.apply(np.var,axis=0)\n",
    "var_table.head(5)"
   ]
  },
  {
   "cell_type": "markdown",
   "id": "ykx9ZkQzJ_OZ",
   "metadata": {
    "id": "ykx9ZkQzJ_OZ"
   },
   "source": [
    "In this analysis, we demonstrate the Kalman Filter estimation for 'ARLP', one of our assets in our investment portfolio."
   ]
  },
  {
   "cell_type": "code",
   "execution_count": 144,
   "id": "fERLdCQ0eKVV",
   "metadata": {
    "executionInfo": {
     "elapsed": 8,
     "status": "ok",
     "timestamp": 1666379710720,
     "user": {
      "displayName": "Euclid Zhang",
      "userId": "16288628371317911367"
     },
     "user_tz": 240
    },
    "id": "fERLdCQ0eKVV"
   },
   "outputs": [],
   "source": [
    "# Set up a summary table for the calculation\n",
    "\n",
    "asset = 'ARLP'\n",
    "\n",
    "cal_table = pd.DataFrame(index = close_prices.index, \n",
    "                         columns = ['VWAP','x_predict', 'P_predict', 'innovation', 'R','Q','P','K','KF_Value'])\n",
    "cal_table['VWAP'] = close_prices[asset]"
   ]
  },
  {
   "cell_type": "code",
   "execution_count": 145,
   "id": "23r3oAj8gHTe",
   "metadata": {
    "executionInfo": {
     "elapsed": 177,
     "status": "ok",
     "timestamp": 1666379710889,
     "user": {
      "displayName": "Euclid Zhang",
      "userId": "16288628371317911367"
     },
     "user_tz": 240
    },
    "id": "23r3oAj8gHTe"
   },
   "outputs": [],
   "source": [
    "# Kalman Filter Calculation\n",
    "\n",
    "x_0 = np.mean(cal_table['VWAP'])                                 # Initial Price\n",
    "P_0 = (0.5*(max(cal_table['VWAP'])-min(cal_table['VWAP'])))**2  # Using [0.5(max price - min price)]^2 as the initial estimation error\n",
    "R_pct = var_table.loc[asset,'R']                                  # R per price unit\n",
    "Q_pct = var_table.loc[asset,'Q']                                  # Q per price unit\n",
    "\n",
    "# First iteration\n",
    "\n",
    "cal_table.loc[cal_table.index[0],'x_predict'] = x_0   # Prediction\n",
    "cal_table.loc[cal_table.index[0],'P_predict'] = P_0 + Q_pct * (cal_table['x_predict'][0]**2)  # Prediction Variance, with updated Q\n",
    "cal_table.loc[cal_table.index[0],'innovation'] = cal_table['VWAP'][0] - cal_table['x_predict'][0]  # Calcualte the innovation\n",
    "cal_table.loc[cal_table.index[0],'R'] = (cal_table['x_predict'][0]**2) * R_pct    # Update R. Var(aX) = (a^2)*Var(X)\n",
    "cal_table.loc[cal_table.index[0],'Q'] = (cal_table['x_predict'][0]**2) * Q_pct    # Update Q. Var(aX) = (a^2)*Var(X)\n",
    "cal_table.loc[cal_table.index[0],'K'] = cal_table['P_predict'][0] / (cal_table['P_predict'][0] + cal_table['R'][0])   # Calculate the Kalman gain\n",
    "cal_table.loc[cal_table.index[0],'KF_Value'] =  cal_table['x_predict'][0] + cal_table['K'][0] * cal_table['innovation'][0]  # Update the state estimation\n",
    "cal_table.loc[cal_table.index[0],'P'] = (1-cal_table['K'][0]) * cal_table['P_predict'][0]  # Update the estimation variance\n",
    "\n",
    "# Remaining iterations\n",
    "\n",
    "for i in range(1,len(cal_table)):\n",
    "  cal_table.loc[cal_table.index[i],'x_predict'] = cal_table['KF_Value'][i-1]   # Prediction\n",
    "  cal_table.loc[cal_table.index[i],'P_predict'] = cal_table['P'][i-1]  + Q_pct * (cal_table['x_predict'][i]**2)  # Prediction Variance, with updated Q\n",
    "  cal_table.loc[cal_table.index[i],'innovation'] = cal_table['VWAP'][i] - cal_table['x_predict'][i]  # Calcualte the innovation\n",
    "  cal_table.loc[cal_table.index[i],'R'] = (cal_table['x_predict'][i]**2) * R_pct  # Update R. Var(aX) = (a^2)*Var(X)\n",
    "  cal_table.loc[cal_table.index[i],'Q'] = (cal_table['x_predict'][i]**2) * Q_pct  # Update Q. Var(aX) = (a^2)*Var(X)\n",
    "  cal_table.loc[cal_table.index[i],'K'] = cal_table['P_predict'][i] / (cal_table['P_predict'][i] + cal_table['R'][i])   # Calculate the Kalman gain\n",
    "  cal_table.loc[cal_table.index[i],'KF_Value'] =  cal_table['x_predict'][i] + cal_table['K'][i] * cal_table['innovation'][i]  # Update the state estimation\n",
    "  cal_table.loc[cal_table.index[i],'P'] = (1-cal_table['K'][i]) * cal_table['P_predict'][i]  # Update the estimation variance\n"
   ]
  },
  {
   "cell_type": "markdown",
   "id": "l-uz9E7QChZ8",
   "metadata": {
    "id": "l-uz9E7QChZ8"
   },
   "source": [
    "The first and last few iterations of our calculation is showed below."
   ]
  },
  {
   "cell_type": "code",
   "execution_count": 146,
   "id": "o3K1zWwTptCV",
   "metadata": {
    "colab": {
     "base_uri": "https://localhost:8080/",
     "height": 395
    },
    "executionInfo": {
     "elapsed": 6,
     "status": "ok",
     "timestamp": 1666379710890,
     "user": {
      "displayName": "Euclid Zhang",
      "userId": "16288628371317911367"
     },
     "user_tz": 240
    },
    "id": "o3K1zWwTptCV",
    "outputId": "478d9fa0-2f81-40e6-e3bc-992d687a0ee5"
   },
   "outputs": [
    {
     "data": {
      "text/html": [
       "<div>\n",
       "<style scoped>\n",
       "    .dataframe tbody tr th:only-of-type {\n",
       "        vertical-align: middle;\n",
       "    }\n",
       "\n",
       "    .dataframe tbody tr th {\n",
       "        vertical-align: top;\n",
       "    }\n",
       "\n",
       "    .dataframe thead th {\n",
       "        text-align: right;\n",
       "    }\n",
       "</style>\n",
       "<table border=\"1\" class=\"dataframe\">\n",
       "  <thead>\n",
       "    <tr style=\"text-align: right;\">\n",
       "      <th></th>\n",
       "      <th>VWAP</th>\n",
       "      <th>x_predict</th>\n",
       "      <th>P_predict</th>\n",
       "      <th>innovation</th>\n",
       "      <th>R</th>\n",
       "      <th>Q</th>\n",
       "      <th>P</th>\n",
       "      <th>K</th>\n",
       "      <th>KF_Value</th>\n",
       "    </tr>\n",
       "  </thead>\n",
       "  <tbody>\n",
       "    <tr>\n",
       "      <th>2022-07-29</th>\n",
       "      <td>21.950682</td>\n",
       "      <td>23.828603</td>\n",
       "      <td>6.38588</td>\n",
       "      <td>-1.877921</td>\n",
       "      <td>0.088585</td>\n",
       "      <td>0.39084</td>\n",
       "      <td>0.087373</td>\n",
       "      <td>0.986318</td>\n",
       "      <td>21.976376</td>\n",
       "    </tr>\n",
       "    <tr>\n",
       "      <th>2022-08-01</th>\n",
       "      <td>22.032092</td>\n",
       "      <td>21.976376</td>\n",
       "      <td>0.419814</td>\n",
       "      <td>0.055715</td>\n",
       "      <td>0.075349</td>\n",
       "      <td>0.33244</td>\n",
       "      <td>0.063883</td>\n",
       "      <td>0.84783</td>\n",
       "      <td>22.023613</td>\n",
       "    </tr>\n",
       "    <tr>\n",
       "      <th>2022-08-02</th>\n",
       "      <td>22.549370</td>\n",
       "      <td>22.023613</td>\n",
       "      <td>0.397754</td>\n",
       "      <td>0.525757</td>\n",
       "      <td>0.075673</td>\n",
       "      <td>0.333871</td>\n",
       "      <td>0.063578</td>\n",
       "      <td>0.840159</td>\n",
       "      <td>22.465333</td>\n",
       "    </tr>\n",
       "    <tr>\n",
       "      <th>2022-08-03</th>\n",
       "      <td>23.023072</td>\n",
       "      <td>22.465333</td>\n",
       "      <td>0.410975</td>\n",
       "      <td>0.557739</td>\n",
       "      <td>0.078739</td>\n",
       "      <td>0.347398</td>\n",
       "      <td>0.066079</td>\n",
       "      <td>0.839214</td>\n",
       "      <td>22.933395</td>\n",
       "    </tr>\n",
       "    <tr>\n",
       "      <th>2022-08-04</th>\n",
       "      <td>22.420136</td>\n",
       "      <td>22.933395</td>\n",
       "      <td>0.428104</td>\n",
       "      <td>-0.513259</td>\n",
       "      <td>0.082054</td>\n",
       "      <td>0.362025</td>\n",
       "      <td>0.068857</td>\n",
       "      <td>0.839159</td>\n",
       "      <td>22.502689</td>\n",
       "    </tr>\n",
       "  </tbody>\n",
       "</table>\n",
       "</div>"
      ],
      "text/plain": [
       "                 VWAP  x_predict P_predict innovation         R         Q  \\\n",
       "2022-07-29  21.950682  23.828603   6.38588  -1.877921  0.088585   0.39084   \n",
       "2022-08-01  22.032092  21.976376  0.419814   0.055715  0.075349   0.33244   \n",
       "2022-08-02  22.549370  22.023613  0.397754   0.525757  0.075673  0.333871   \n",
       "2022-08-03  23.023072  22.465333  0.410975   0.557739  0.078739  0.347398   \n",
       "2022-08-04  22.420136  22.933395  0.428104  -0.513259  0.082054  0.362025   \n",
       "\n",
       "                   P         K   KF_Value  \n",
       "2022-07-29  0.087373  0.986318  21.976376  \n",
       "2022-08-01  0.063883   0.84783  22.023613  \n",
       "2022-08-02  0.063578  0.840159  22.465333  \n",
       "2022-08-03  0.066079  0.839214  22.933395  \n",
       "2022-08-04  0.068857  0.839159  22.502689  "
      ]
     },
     "metadata": {},
     "output_type": "display_data"
    },
    {
     "data": {
      "text/html": [
       "<div>\n",
       "<style scoped>\n",
       "    .dataframe tbody tr th:only-of-type {\n",
       "        vertical-align: middle;\n",
       "    }\n",
       "\n",
       "    .dataframe tbody tr th {\n",
       "        vertical-align: top;\n",
       "    }\n",
       "\n",
       "    .dataframe thead th {\n",
       "        text-align: right;\n",
       "    }\n",
       "</style>\n",
       "<table border=\"1\" class=\"dataframe\">\n",
       "  <thead>\n",
       "    <tr style=\"text-align: right;\">\n",
       "      <th></th>\n",
       "      <th>VWAP</th>\n",
       "      <th>x_predict</th>\n",
       "      <th>P_predict</th>\n",
       "      <th>innovation</th>\n",
       "      <th>R</th>\n",
       "      <th>Q</th>\n",
       "      <th>P</th>\n",
       "      <th>K</th>\n",
       "      <th>KF_Value</th>\n",
       "    </tr>\n",
       "  </thead>\n",
       "  <tbody>\n",
       "    <tr>\n",
       "      <th>2022-10-17</th>\n",
       "      <td>22.763507</td>\n",
       "      <td>22.499246</td>\n",
       "      <td>0.418301</td>\n",
       "      <td>0.264261</td>\n",
       "      <td>0.078977</td>\n",
       "      <td>0.348447</td>\n",
       "      <td>0.066434</td>\n",
       "      <td>0.841181</td>\n",
       "      <td>22.721537</td>\n",
       "    </tr>\n",
       "    <tr>\n",
       "      <th>2022-10-18</th>\n",
       "      <td>22.937638</td>\n",
       "      <td>22.721537</td>\n",
       "      <td>0.421801</td>\n",
       "      <td>0.2161</td>\n",
       "      <td>0.080545</td>\n",
       "      <td>0.355367</td>\n",
       "      <td>0.067631</td>\n",
       "      <td>0.839662</td>\n",
       "      <td>22.902988</td>\n",
       "    </tr>\n",
       "    <tr>\n",
       "      <th>2022-10-19</th>\n",
       "      <td>22.779246</td>\n",
       "      <td>22.902988</td>\n",
       "      <td>0.428696</td>\n",
       "      <td>-0.123742</td>\n",
       "      <td>0.081837</td>\n",
       "      <td>0.361065</td>\n",
       "      <td>0.068719</td>\n",
       "      <td>0.839703</td>\n",
       "      <td>22.799082</td>\n",
       "    </tr>\n",
       "    <tr>\n",
       "      <th>2022-10-20</th>\n",
       "      <td>22.898098</td>\n",
       "      <td>22.799082</td>\n",
       "      <td>0.426515</td>\n",
       "      <td>0.099016</td>\n",
       "      <td>0.081096</td>\n",
       "      <td>0.357796</td>\n",
       "      <td>0.06814</td>\n",
       "      <td>0.84024</td>\n",
       "      <td>22.882279</td>\n",
       "    </tr>\n",
       "    <tr>\n",
       "      <th>2022-10-21</th>\n",
       "      <td>22.734939</td>\n",
       "      <td>22.882279</td>\n",
       "      <td>0.428553</td>\n",
       "      <td>-0.14734</td>\n",
       "      <td>0.081689</td>\n",
       "      <td>0.360413</td>\n",
       "      <td>0.068611</td>\n",
       "      <td>0.839901</td>\n",
       "      <td>22.758528</td>\n",
       "    </tr>\n",
       "  </tbody>\n",
       "</table>\n",
       "</div>"
      ],
      "text/plain": [
       "                 VWAP  x_predict P_predict innovation         R         Q  \\\n",
       "2022-10-17  22.763507  22.499246  0.418301   0.264261  0.078977  0.348447   \n",
       "2022-10-18  22.937638  22.721537  0.421801     0.2161  0.080545  0.355367   \n",
       "2022-10-19  22.779246  22.902988  0.428696  -0.123742  0.081837  0.361065   \n",
       "2022-10-20  22.898098  22.799082  0.426515   0.099016  0.081096  0.357796   \n",
       "2022-10-21  22.734939  22.882279  0.428553   -0.14734  0.081689  0.360413   \n",
       "\n",
       "                   P         K   KF_Value  \n",
       "2022-10-17  0.066434  0.841181  22.721537  \n",
       "2022-10-18  0.067631  0.839662  22.902988  \n",
       "2022-10-19  0.068719  0.839703  22.799082  \n",
       "2022-10-20   0.06814   0.84024  22.882279  \n",
       "2022-10-21  0.068611  0.839901  22.758528  "
      ]
     },
     "metadata": {},
     "output_type": "display_data"
    }
   ],
   "source": [
    "# Result of the calculation\n",
    "\n",
    "display(cal_table.head(5))\n",
    "display(cal_table.tail(5))"
   ]
  },
  {
   "cell_type": "markdown",
   "id": "W0YkRKZGCqjs",
   "metadata": {
    "id": "W0YkRKZGCqjs"
   },
   "source": [
    "We can see that the Kalman gain quickly converge to around 0.84. The high Kalman gain indicates that innovation makes the most contribution to the estimated value and the predicted value from the last period only plays a small role. This is consistent with the fact that the asset value is difficult to be predicted."
   ]
  },
  {
   "cell_type": "markdown",
   "id": "Sc3AN-rPEj3U",
   "metadata": {
    "id": "Sc3AN-rPEj3U"
   },
   "source": [
    "We can confirm from the following two graphs that the Kalman Filter estimations are mostly following the actual VWAP values"
   ]
  },
  {
   "cell_type": "code",
   "execution_count": 147,
   "id": "XpGfznR5ptIB",
   "metadata": {
    "colab": {
     "base_uri": "https://localhost:8080/",
     "height": 310
    },
    "executionInfo": {
     "elapsed": 500,
     "status": "ok",
     "timestamp": 1666383047652,
     "user": {
      "displayName": "Euclid Zhang",
      "userId": "16288628371317911367"
     },
     "user_tz": 240
    },
    "id": "XpGfznR5ptIB",
    "outputId": "90e46fd4-eb42-49d0-8d37-82d9445e1729"
   },
   "outputs": [
    {
     "data": {
      "image/png": "[encoded data removed]",
      "text/plain": [
       "<Figure size 432x288 with 1 Axes>"
      ]
     },
     "metadata": {
      "needs_background": "light"
     },
     "output_type": "display_data"
    }
   ],
   "source": [
    "# Plot of the 60 days period\n",
    "\n",
    "cal_table[['VWAP','KF_Value']].plot()\n",
    "plt.title('Kalman Filter Estimation')\n",
    "plt.legend(['VWAP','Kalman Estimation'])\n",
    "plt.xlabel('Day')\n",
    "plt.ylabel('Price')\n",
    "plt.xticks(rotation=15)\n",
    "plt.show()"
   ]
  },
  {
   "cell_type": "code",
   "execution_count": 148,
   "id": "Wsx_DF6Du0Gc",
   "metadata": {
    "colab": {
     "base_uri": "https://localhost:8080/",
     "height": 315
    },
    "executionInfo": {
     "elapsed": 568,
     "status": "ok",
     "timestamp": 1666383062683,
     "user": {
      "displayName": "Euclid Zhang",
      "userId": "16288628371317911367"
     },
     "user_tz": 240
    },
    "id": "Wsx_DF6Du0Gc",
    "outputId": "216eacf6-35d9-45d7-c5fc-b83fd33effaa"
   },
   "outputs": [
    {
     "data": {
      "image/png": "[encoded data removed]",
      "text/plain": [
       "<Figure size 432x288 with 1 Axes>"
      ]
     },
     "metadata": {
      "needs_background": "light"
     },
     "output_type": "display_data"
    }
   ],
   "source": [
    "# Plot of two weeks\n",
    "\n",
    "cal_table[['VWAP','KF_Value']].tail(14).plot()\n",
    "plt.title('Kalman Filter Estimation')\n",
    "plt.legend(['VWAP','Kalman Estimation'])\n",
    "plt.xlabel('Day')\n",
    "plt.ylabel('Price')\n",
    "plt.xticks(rotation=20)\n",
    "plt.show()"
   ]
  },
  {
   "cell_type": "markdown",
   "id": "z__o2EiHFTaj",
   "metadata": {
    "id": "z__o2EiHFTaj"
   },
   "source": [
    "To verify that our calculation is reasonable, we can check the percentage of the innovations that are within 1.96 standard deviation of the prediction."
   ]
  },
  {
   "cell_type": "code",
   "execution_count": 149,
   "id": "fLftSzkKu0xU",
   "metadata": {
    "colab": {
     "base_uri": "https://localhost:8080/"
    },
    "executionInfo": {
     "elapsed": 250,
     "status": "ok",
     "timestamp": 1666381664905,
     "user": {
      "displayName": "Euclid Zhang",
      "userId": "16288628371317911367"
     },
     "user_tz": 240
    },
    "id": "fLftSzkKu0xU",
    "outputId": "eba6db65-d8ae-4061-c5fa-25f6e40fd016"
   },
   "outputs": [
    {
     "data": {
      "text/plain": [
       "0.9166666666666666"
      ]
     },
     "execution_count": 149,
     "metadata": {},
     "output_type": "execute_result"
    }
   ],
   "source": [
    "# Percentage of the innovations that are greater than 1.65 of the standard deviation of the prediction\n",
    "\n",
    "sum(abs(cal_table['innovation']) < 1.65*cal_table['P_predict']**0.5)/len(cal_table)"
   ]
  },
  {
   "cell_type": "markdown",
   "id": "uzVImcsiFq77",
   "metadata": {
    "id": "uzVImcsiFq77"
   },
   "source": [
    "The number is close to 90%, which is consistent with our normal distribution assumption. Our calculation is reasonable."
   ]
  },
  {
   "cell_type": "markdown",
   "id": "erLn7TDnF6MD",
   "metadata": {
    "id": "erLn7TDnF6MD"
   },
   "source": [
    "Since we assume that the asset value following a Brownian motion, we predict the asset value of the following four days to be the same as the last Kalman Filter estimation. Let's compare the actual VWAP of the four days and our prediction."
   ]
  },
  {
   "cell_type": "code",
   "execution_count": 150,
   "id": "gxtaXb125RiQ",
   "metadata": {
    "executionInfo": {
     "elapsed": 16,
     "status": "ok",
     "timestamp": 1666379711565,
     "user": {
      "displayName": "Euclid Zhang",
      "userId": "16288628371317911367"
     },
     "user_tz": 240
    },
    "id": "gxtaXb125RiQ"
   },
   "outputs": [],
   "source": [
    "# First day of prediction\n",
    "\n",
    "start = cal_table.index[len(cal_table)-1] + timedelta(days =1)"
   ]
  },
  {
   "cell_type": "code",
   "execution_count": 151,
   "id": "Z3OEnp8R5Rov",
   "metadata": {
    "executionInfo": {
     "elapsed": 16,
     "status": "ok",
     "timestamp": 1666379711565,
     "user": {
      "displayName": "Euclid Zhang",
      "userId": "16288628371317911367"
     },
     "user_tz": 240
    },
    "id": "Z3OEnp8R5Rov"
   },
   "outputs": [],
   "source": [
    "# Gather data from the first day of prediction\n",
    "\n",
    "new_historical_data = new_historical_data.loc[new_historical_data.index.date >= start,]"
   ]
  },
  {
   "cell_type": "code",
   "execution_count": 152,
   "id": "Mew2Np905RtI",
   "metadata": {
    "executionInfo": {
     "elapsed": 16,
     "status": "ok",
     "timestamp": 1666379711566,
     "user": {
      "displayName": "Euclid Zhang",
      "userId": "16288628371317911367"
     },
     "user_tz": 240
    },
    "id": "Mew2Np905RtI"
   },
   "outputs": [],
   "source": [
    "# Impute missing prices using linear interpolation\n",
    "\n",
    "pd.set_option('mode.chained_assignment', None)\n",
    "new_historical_data['Adj Close'].interpolate(inplace=True)\n",
    "new_historical_data['High'].interpolate(inplace=True)\n",
    "new_historical_data['Low'].interpolate(inplace=True)\n",
    "new_historical_data['Close'].interpolate(inplace=True)\n",
    "new_historical_data['Volume'].fillna(0, inplace = True)"
   ]
  },
  {
   "cell_type": "code",
   "execution_count": 153,
   "id": "WJ2_Jpq47X8e",
   "metadata": {
    "executionInfo": {
     "elapsed": 16,
     "status": "ok",
     "timestamp": 1666379711566,
     "user": {
      "displayName": "Euclid Zhang",
      "userId": "16288628371317911367"
     },
     "user_tz": 240
    },
    "id": "WJ2_Jpq47X8e"
   },
   "outputs": [],
   "source": [
    "# Calculate the VWAP (Volume Weighted Average Price)\n",
    "\n",
    "typical_price = (new_historical_data['High'] + new_historical_data['Low'] + new_historical_data['Close'])/3\n",
    "total_traded = typical_price*new_historical_data['Volume']\n",
    "total_traded.fillna(0, inplace = True)\n",
    "VWAP = total_traded.groupby(total_traded.index.date).sum() / new_historical_data['Volume'].groupby(new_historical_data['Volume'].index.date).sum().replace(0,1)\n",
    "VWAP = VWAP.replace(0, np.nan)"
   ]
  },
  {
   "cell_type": "code",
   "execution_count": 154,
   "id": "kDcLigHX7YC1",
   "metadata": {
    "colab": {
     "base_uri": "https://localhost:8080/",
     "height": 175
    },
    "executionInfo": {
     "elapsed": 118,
     "status": "ok",
     "timestamp": 1666380305081,
     "user": {
      "displayName": "Euclid Zhang",
      "userId": "16288628371317911367"
     },
     "user_tz": 240
    },
    "id": "kDcLigHX7YC1",
    "outputId": "985d4b88-5c79-4cbe-d364-a3c560b86c1c"
   },
   "outputs": [
    {
     "data": {
      "text/html": [
       "<div>\n",
       "<style scoped>\n",
       "    .dataframe tbody tr th:only-of-type {\n",
       "        vertical-align: middle;\n",
       "    }\n",
       "\n",
       "    .dataframe tbody tr th {\n",
       "        vertical-align: top;\n",
       "    }\n",
       "\n",
       "    .dataframe thead th {\n",
       "        text-align: right;\n",
       "    }\n",
       "</style>\n",
       "<table border=\"1\" class=\"dataframe\">\n",
       "  <thead>\n",
       "    <tr style=\"text-align: right;\">\n",
       "      <th></th>\n",
       "      <th>Actual VWAP</th>\n",
       "      <th>Prediction</th>\n",
       "      <th>Prediction Std</th>\n",
       "      <th>Error</th>\n",
       "      <th>Number of Std</th>\n",
       "    </tr>\n",
       "  </thead>\n",
       "  <tbody>\n",
       "    <tr>\n",
       "      <th>2022-10-24</th>\n",
       "      <td>22.651619</td>\n",
       "      <td>22.758528</td>\n",
       "      <td>0.652024</td>\n",
       "      <td>-0.106909</td>\n",
       "      <td>-0.163965</td>\n",
       "    </tr>\n",
       "    <tr>\n",
       "      <th>2022-10-25</th>\n",
       "      <td>23.311725</td>\n",
       "      <td>22.758528</td>\n",
       "      <td>0.884116</td>\n",
       "      <td>0.553197</td>\n",
       "      <td>0.625706</td>\n",
       "    </tr>\n",
       "    <tr>\n",
       "      <th>2022-10-26</th>\n",
       "      <td>23.588834</td>\n",
       "      <td>22.758528</td>\n",
       "      <td>1.066858</td>\n",
       "      <td>0.830306</td>\n",
       "      <td>0.778272</td>\n",
       "    </tr>\n",
       "    <tr>\n",
       "      <th>2022-10-27</th>\n",
       "      <td>24.052763</td>\n",
       "      <td>22.758528</td>\n",
       "      <td>1.222583</td>\n",
       "      <td>1.294235</td>\n",
       "      <td>1.058607</td>\n",
       "    </tr>\n",
       "  </tbody>\n",
       "</table>\n",
       "</div>"
      ],
      "text/plain": [
       "            Actual VWAP  Prediction  Prediction Std     Error  Number of Std\n",
       "2022-10-24    22.651619   22.758528        0.652024 -0.106909      -0.163965\n",
       "2022-10-25    23.311725   22.758528        0.884116  0.553197       0.625706\n",
       "2022-10-26    23.588834   22.758528        1.066858  0.830306       0.778272\n",
       "2022-10-27    24.052763   22.758528        1.222583  1.294235       1.058607"
      ]
     },
     "execution_count": 154,
     "metadata": {},
     "output_type": "execute_result"
    }
   ],
   "source": [
    "# Calculate the error of prediction and the number of standard deviation away from 0\n",
    "\n",
    "prediction = cal_table['KF_Value'][len(cal_table)-1]\n",
    "prediction_var = [cal_table['P'][len(cal_table)-1] + \n",
    "                  x*Q_pct * (prediction**2) for x in list(range(1,len(VWAP[asset])+1))]\n",
    "\n",
    "pd.DataFrame({'Actual VWAP': VWAP[asset],\n",
    "              'Prediction' : prediction,\n",
    "              'Prediction Std' : [x**0.5 for x in prediction_var],\n",
    "              'Error':VWAP[asset] - cal_table['KF_Value'][len(cal_table)-1],\n",
    "              'Number of Std':(VWAP[asset] - prediction) / [x**0.5 for x in prediction_var]}).head(4)"
   ]
  },
  {
   "cell_type": "markdown",
   "id": "dQjWK_g7GaT8",
   "metadata": {
    "id": "dQjWK_g7GaT8"
   },
   "source": [
    "We calculated the predicted variance increasingly by adding the Process Noise Uncertainty variance for each day. The result shows that the actual VWAP is within 1.1 standard deviation of our prediction. Our Kalman Filter calculation gives plausible predictions and can be used to manage our portfolio volatility / risk."
   ]
  },
  {
   "cell_type": "code",
   "execution_count": null,
   "id": "6c2bff8c",
   "metadata": {},
   "outputs": [],
   "source": []
  }
 ],
 "metadata": {
  "colab": {
   "collapsed_sections": [],
   "provenance": []
  },
  "kernelspec": {
   "display_name": "Python 3 (ipykernel)",
   "language": "python",
   "name": "python3"
  },
  "language_info": {
   "codemirror_mode": {
    "name": "ipython",
    "version": 3
   },
   "file_extension": ".py",
   "mimetype": "text/x-python",
   "name": "python",
   "nbconvert_exporter": "python",
   "pygments_lexer": "ipython3",
   "version": "3.9.12"
  }
 },
 "nbformat": 4,
 "nbformat_minor": 5
}
